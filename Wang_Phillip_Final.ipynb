{
 "cells": [
  {
   "cell_type": "code",
   "execution_count": null,
   "metadata": {},
   "outputs": [],
   "source": [
    "1) Name:Phillip Wang\n",
    "2) How to run your code (what command-line switches they are, what happens when you invoke the code?\n",
    "\tA.1: My code requires json, csv, matplotlib, pandas, requests, and beautiful soup. \n",
    "\tA.2: My Code is split into two files. The first python file grabs and compiles two csv files, one for dog adoption listings and the second for dog breed traits. The second python code merges the two csv files and compute correlations between adoption listings and (Popularity Ranking,Height, Weight, and Life expectancy).\n",
    "\t\n",
    "3)Any Gotchas?\n",
    "    A.1: Generating the csv file for the complete dog breed list takes a while. There will be multiple Key Error messages before the Done message.\n",
    "\tA.2: For some reason generating the csv files requires running my code twice\n",
    "\n",
    "4)Anything else you feel is relevant to the grading of your project your project?\n",
    "\tA.1: I originally planned to also correlate adoption listings with number of inherrited disorders for each breed. However, the text retrieved from my second data set (Canine Inherited Disorder Database) included a large number of concaented disease names. I spent a large a mount of time trying to figure out how to split the joined disease names, but to no avail. Regrettably, I had to forfeit using my second chosen data set. For what is worth, I have included the code in the submission.\n",
    "\n",
    "What did you set out to study?  (i.e. what was the point of your project?  This should be close to your Milestone 1 assignment, but if you switched gears or changed things, note it here.)\n",
    "\tA.1:I set out to explore possible correlations between adoption listings and physical and popularity traits.\n",
    "What did you Discover/what were your conclusions (i.e. what were your findings?  Were your original assumptions confirmed, etc.?)\n",
    "\tA.1: I found no correlation between adoption listing and all of the physical variables tested.\n",
    "\tA.2: Interestingly, there is a moderate negative correlaationg between adoption listings and AKC popuplarity ranking. This negative correlation is suggestive of breed popularity having either a postive effect on adoption rates or negative effect of giving up popular dog breeds up for adoption. Further data such as dog breed adoption rates and dog breed sales for CA would strengthen this correlation analysis.\n",
    "What difficulties did you have in completing the project?  \n",
    "\tA.1: I originally planned to also correlate adoption listings with number of inherrited disorders for each breed. However, the text retrieved from my second data set (Canine Inherited Disorder Database) included a large numbder of concaented disease names. I spent a large a mount of time trying to figure out how to split the joined disease names, but to no avail. Regrettably, I had to forfeit using my second chosen data set. For what is worth, I have included the code in the submission.\n",
    "\tA.2: The Petfinder API went down for half a day for some reason. Delayed testing of my code.\n",
    "    A.3: Maxed out on requests, took me a few hours to realize that I can just request another one (Duh!)\n",
    "\n",
    "What skills did you wish you had while you were doing the project?\n",
    "\tA.1: Better at massaging data into a useabale form (e.g. removing unnecessary texts)\n",
    "\tA.2 :Pandas data frames\n",
    "What would you do “next” to expand or augment the project?  \n",
    "\tA.1: I would include higher resolution information such as adoption rates into my correlation analysis. I would also like to find and include purchased rates for dog breeds to validate the popularoty ranking of AKC.\n",
    "\t\n",
    "Link:\n",
    "https://github.com/Pwang831/Wang_Phillip_Final"
   ]
  }
 ],
 "metadata": {
  "kernelspec": {
   "display_name": "Python 3",
   "language": "python",
   "name": "python3"
  },
  "language_info": {
   "codemirror_mode": {
    "name": "ipython",
    "version": 3
   },
   "file_extension": ".py",
   "mimetype": "text/x-python",
   "name": "python",
   "nbconvert_exporter": "python",
   "pygments_lexer": "ipython3",
   "version": "3.6.8"
  }
 },
 "nbformat": 4,
 "nbformat_minor": 2
}
